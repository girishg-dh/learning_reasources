{
 "cells": [
  {
   "cell_type": "markdown",
   "id": "b5789bc3-b1ae-42c7-94a8-2ef4f89946fc",
   "metadata": {},
   "source": [
    "# Lesson 4: Persistence and Streaming"
   ]
  },
  {
   "cell_type": "code",
   "execution_count": 1,
   "id": "f5762271-8736-4e94-9444-8c92bd0e8074",
   "metadata": {
    "height": 64
   },
   "outputs": [],
   "source": [
    "from dotenv import load_dotenv\n",
    "\n",
    "_ = load_dotenv()"
   ]
  },
  {
   "cell_type": "code",
   "execution_count": 2,
   "id": "d0168aee-bce9-4d60-b827-f86a88187e31",
   "metadata": {
    "height": 115
   },
   "outputs": [],
   "source": [
    "from langgraph.graph import StateGraph, END\n",
    "from typing import TypedDict, Annotated\n",
    "import operator\n",
    "from langchain_core.messages import AnyMessage, SystemMessage, HumanMessage, ToolMessage\n",
    "from langchain_openai import ChatOpenAI\n",
    "from langchain_community.tools.tavily_search import TavilySearchResults"
   ]
  },
  {
   "cell_type": "code",
   "execution_count": 3,
   "id": "da06a64f-a2d5-4a66-8090-9ada0930c684",
   "metadata": {
    "height": 30
   },
   "outputs": [],
   "source": [
    "tool = TavilySearchResults(max_results=2)"
   ]
  },
  {
   "cell_type": "code",
   "execution_count": 4,
   "id": "2589c5b6-6cc2-4594-9a17-dccdcf676054",
   "metadata": {
    "height": 47
   },
   "outputs": [],
   "source": [
    "class AgentState(TypedDict):\n",
    "    messages: Annotated[list[AnyMessage], operator.add]"
   ]
  },
  {
   "cell_type": "code",
   "execution_count": 5,
   "id": "9c033522-d2fc-41ac-8e3c-5e35872bf88d",
   "metadata": {
    "height": 64
   },
   "outputs": [],
   "source": [
    "from langgraph.checkpoint.sqlite import SqliteSaver\n",
    "\n",
    "memory = SqliteSaver.from_conn_string(\":memory:\")"
   ]
  },
  {
   "cell_type": "code",
   "execution_count": 6,
   "id": "a2ba84ec-c172-4de7-ac55-e3158a531b23",
   "metadata": {
    "height": 574
   },
   "outputs": [],
   "source": [
    "class Agent:\n",
    "    def __init__(self, model, tools, checkpointer, system=\"\"):\n",
    "        self.system = system\n",
    "        graph = StateGraph(AgentState)\n",
    "        graph.add_node(\"llm\", self.call_openai)\n",
    "        graph.add_node(\"action\", self.take_action)\n",
    "        graph.add_conditional_edges(\"llm\", self.exists_action, {True: \"action\", False: END})\n",
    "        graph.add_edge(\"action\", \"llm\")\n",
    "        graph.set_entry_point(\"llm\")\n",
    "        self.graph = graph.compile(checkpointer=checkpointer)\n",
    "        self.tools = {t.name: t for t in tools}\n",
    "        self.model = model.bind_tools(tools)\n",
    "\n",
    "    def call_openai(self, state: AgentState):\n",
    "        messages = state['messages']\n",
    "        if self.system:\n",
    "            messages = [SystemMessage(content=self.system)] + messages\n",
    "        message = self.model.invoke(messages)\n",
    "        return {'messages': [message]}\n",
    "\n",
    "    def exists_action(self, state: AgentState):\n",
    "        result = state['messages'][-1]\n",
    "        return len(result.tool_calls) > 0\n",
    "\n",
    "    def take_action(self, state: AgentState):\n",
    "        tool_calls = state['messages'][-1].tool_calls\n",
    "        results = []\n",
    "        for t in tool_calls:\n",
    "            print(f\"Calling: {t}\")\n",
    "            result = self.tools[t['name']].invoke(t['args'])\n",
    "            results.append(ToolMessage(tool_call_id=t['id'], name=t['name'], content=str(result)))\n",
    "        print(\"Back to the model!\")\n",
    "        return {'messages': results}"
   ]
  },
  {
   "cell_type": "code",
   "execution_count": 7,
   "id": "876d5092-b8ef-4e38-b4d7-0e80c609bf7a",
   "metadata": {
    "height": 132
   },
   "outputs": [],
   "source": [
    "prompt = \"\"\"You are a smart research assistant. Use the search engine to look up information. \\\n",
    "You are allowed to make multiple calls (either together or in sequence). \\\n",
    "Only look up information when you are sure of what you want. \\\n",
    "If you need to look up some information before asking a follow up question, you are allowed to do that!\n",
    "\"\"\"\n",
    "model = ChatOpenAI(model=\"gpt-4o\")\n",
    "abot = Agent(model, [tool], system=prompt, checkpointer=memory)"
   ]
  },
  {
   "cell_type": "code",
   "execution_count": 8,
   "id": "10084a02-2928-4945-9f7c-ad3f5b33caf7",
   "metadata": {
    "height": 30
   },
   "outputs": [],
   "source": [
    "messages = [HumanMessage(content=\"What is the weather in sf?\")]"
   ]
  },
  {
   "cell_type": "code",
   "execution_count": 9,
   "id": "714d1205-f8fc-4912-b148-2a45da99219c",
   "metadata": {
    "height": 30
   },
   "outputs": [],
   "source": [
    "thread = {\"configurable\": {\"thread_id\": \"1\"}}"
   ]
  },
  {
   "cell_type": "code",
   "execution_count": 10,
   "id": "83588e70-254f-4f83-a510-c8ae81e729b0",
   "metadata": {
    "height": 64
   },
   "outputs": [
    {
     "name": "stdout",
     "output_type": "stream",
     "text": [
      "[AIMessage(content='', additional_kwargs={'tool_calls': [{'id': 'call_bmfLa92f6oAIKN9KvXtqbKDz', 'function': {'arguments': '{\"query\":\"current weather in San Francisco\"}', 'name': 'tavily_search_results_json'}, 'type': 'function'}]}, response_metadata={'token_usage': {'completion_tokens': 22, 'prompt_tokens': 151, 'total_tokens': 173, 'prompt_tokens_details': {'cached_tokens': 0, 'audio_tokens': 0}, 'completion_tokens_details': {'reasoning_tokens': 0, 'audio_tokens': 0, 'accepted_prediction_tokens': 0, 'rejected_prediction_tokens': 0}}, 'model_name': 'gpt-4o', 'system_fingerprint': 'fp_831e067d82', 'finish_reason': 'tool_calls', 'logprobs': None}, id='run-2ee326ab-1e8d-4b6b-98d6-fbd976e2a6ab-0', tool_calls=[{'name': 'tavily_search_results_json', 'args': {'query': 'current weather in San Francisco'}, 'id': 'call_bmfLa92f6oAIKN9KvXtqbKDz'}])]\n",
      "Calling: {'name': 'tavily_search_results_json', 'args': {'query': 'current weather in San Francisco'}, 'id': 'call_bmfLa92f6oAIKN9KvXtqbKDz'}\n",
      "Back to the model!\n",
      "[ToolMessage(content=\"[{'url': 'https://www.weather25.com/north-america/usa/california/san-francisco?page=month&month=August', 'content': '| 31 Patchy rain possible 10° /5° |  |  |  |  |  |  | [...] weather25.com\\\\nSearch\\\\nweather in United States\\\\nRemove from your favorite locations\\\\nAdd to my locations\\\\nShare\\\\nweather in United States\\\\n\\\\n# San Francisco weather in August 2025\\\\n\\\\nPatchy light rain with thunder\\\\nPatchy light drizzle\\\\nPatchy rain possible\\\\nPatchy rain possible\\\\nPatchy rain possible\\\\nPatchy rain possible\\\\nPatchy rain possible\\\\nLight rain shower\\\\nModerate or heavy rain shower\\\\nLight rain shower\\\\nLight sleet\\\\nPatchy rain possible\\\\nMist\\\\nClear\\\\n\\\\n## The average weather in San Francisco in August [...] | 17 Sunny 21° /15° | 18 Partly cloudy 20° /14° | 19 Partly cloudy 20° /13° | 20 Patchy light rain with thunder 11° /8° | 21 Patchy light drizzle 14° /7° | 22 Patchy rain possible 14° /7° | 23 Patchy rain possible 18° /9° |\\\\n| 24 Patchy rain possible 21° /12° | 25 Patchy rain possible 22° /14° | 26 Patchy rain possible 20° /15° | 27 Light rain shower 20° /15° | 28 Moderate or heavy rain shower 13° /7° | 29 Light rain shower 11° /6° | 30 Light sleet 9° /4° |'}, {'url': 'https://www.accuweather.com/en/us/san-francisco/94103/august-weather/347629', 'content': '# San Francisco, CA\\\\n\\\\nSan Francisco\\\\n\\\\nCalifornia\\\\n\\\\n## Around the Globe\\\\n\\\\nAround the Globe\\\\n\\\\n### Hurricane Tracker\\\\n\\\\n### Severe Weather\\\\n\\\\n### Radar & Maps\\\\n\\\\n### News & Features\\\\n\\\\n### Astronomy\\\\n\\\\n### Business\\\\n\\\\n### Climate\\\\n\\\\n### Health\\\\n\\\\n### Recreation\\\\n\\\\n### Sports\\\\n\\\\n### Travel\\\\n\\\\n### Warnings\\\\n\\\\n### Data Suite\\\\n\\\\n### Forensics\\\\n\\\\n### Advertising\\\\n\\\\n### Superior Accuracy™\\\\n\\\\n### Video\\\\n\\\\n### Winter Center\\\\n\\\\n## Monthly\\\\n\\\\n## August\\\\n\\\\n## 2025\\\\n\\\\n## Daily\\\\n\\\\n## Temperature Graph\\\\n\\\\n## Further Ahead\\\\n\\\\nFurther Ahead\\\\n\\\\n### September 2025 [...] ### October 2025\\\\n\\\\n### November 2025\\\\n\\\\n## Around the Globe\\\\n\\\\nAround the Globe\\\\n\\\\n### Hurricane Tracker\\\\n\\\\n### Severe Weather\\\\n\\\\n### Radar & Maps\\\\n\\\\n### News\\\\n\\\\n### Video\\\\n\\\\n### Winter Center\\\\n\\\\nTop Stories\\\\n\\\\nHurricane\\\\n\\\\nHurricane Erin to unleash dangerous surf, rip currents along East Coas...\\\\n\\\\n4 hours ago\\\\n\\\\nHurricane\\\\n\\\\nWarnings issued as Outer Banks faces flooding, massive waves from Erin\\\\n\\\\n1 hour ago\\\\n\\\\nHealth\\\\n\\\\nNYC Legionnaires’ disease cluster grows to more than 100 cases, includ...\\\\n\\\\n2 days ago\\\\n\\\\nWeather Forecasts'}]\", name='tavily_search_results_json', tool_call_id='call_bmfLa92f6oAIKN9KvXtqbKDz')]\n",
      "[AIMessage(content=\"I couldn't find the current weather in San Francisco directly. You might want to check a weather website or app for the latest updates.\", response_metadata={'token_usage': {'completion_tokens': 27, 'prompt_tokens': 864, 'total_tokens': 891, 'prompt_tokens_details': {'cached_tokens': 0, 'audio_tokens': 0}, 'completion_tokens_details': {'reasoning_tokens': 0, 'audio_tokens': 0, 'accepted_prediction_tokens': 0, 'rejected_prediction_tokens': 0}}, 'model_name': 'gpt-4o', 'system_fingerprint': 'fp_df0f7b956c', 'finish_reason': 'stop', 'logprobs': None}, id='run-4b868017-83ef-488a-99da-edc4c3f24208-0')]\n"
     ]
    }
   ],
   "source": [
    "for event in abot.graph.stream({\"messages\": messages}, thread):\n",
    "    for v in event.values():\n",
    "        print(v['messages'])"
   ]
  },
  {
   "cell_type": "code",
   "execution_count": 11,
   "id": "6cb3ef4c-58b3-401b-b104-0d51e553d982",
   "metadata": {
    "height": 98
   },
   "outputs": [
    {
     "name": "stdout",
     "output_type": "stream",
     "text": [
      "{'messages': [AIMessage(content='', additional_kwargs={'tool_calls': [{'id': 'call_LF0RwMrMoeyH9gIrfnj4Bdga', 'function': {'arguments': '{\"query\":\"current weather in Los Angeles\"}', 'name': 'tavily_search_results_json'}, 'type': 'function'}]}, response_metadata={'token_usage': {'completion_tokens': 22, 'prompt_tokens': 903, 'total_tokens': 925, 'prompt_tokens_details': {'cached_tokens': 0, 'audio_tokens': 0}, 'completion_tokens_details': {'reasoning_tokens': 0, 'audio_tokens': 0, 'accepted_prediction_tokens': 0, 'rejected_prediction_tokens': 0}}, 'model_name': 'gpt-4o', 'system_fingerprint': 'fp_df0f7b956c', 'finish_reason': 'tool_calls', 'logprobs': None}, id='run-6b809a17-67cc-4548-a204-f1361d90d89c-0', tool_calls=[{'name': 'tavily_search_results_json', 'args': {'query': 'current weather in Los Angeles'}, 'id': 'call_LF0RwMrMoeyH9gIrfnj4Bdga'}])]}\n",
      "Calling: {'name': 'tavily_search_results_json', 'args': {'query': 'current weather in Los Angeles'}, 'id': 'call_LF0RwMrMoeyH9gIrfnj4Bdga'}\n",
      "Back to the model!\n",
      "{'messages': [ToolMessage(content='[{\\'url\\': \\'https://www.accuweather.com/en/us/los-angeles/90012/weather-forecast/347625\\', \\'content\\': \"# Los Angeles, CA\\\\n\\\\nLos Angeles\\\\n\\\\nCalifornia\\\\n\\\\n## Around the Globe\\\\n\\\\nAround the Globe\\\\n\\\\n### Hurricane Tracker\\\\n\\\\n### Severe Weather\\\\n\\\\n### Radar & Maps\\\\n\\\\n### News & Features\\\\n\\\\n### Astronomy\\\\n\\\\n### Business\\\\n\\\\n### Climate\\\\n\\\\n### Health\\\\n\\\\n### Recreation\\\\n\\\\n### Sports\\\\n\\\\n### Travel\\\\n\\\\n### Warnings\\\\n\\\\n### Data Suite\\\\n\\\\n### Forensics\\\\n\\\\n### Advertising\\\\n\\\\n### Superior Accuracy™\\\\n\\\\n### Video\\\\n\\\\n### Winter Center\\\\n\\\\n## Today\\\\n\\\\n## Today\\'s Weather\\\\n\\\\nWed, Aug 20\\\\n\\\\nWarm with plenty of sunshine\\\\nHi: 91°\\\\n\\\\nTonight: Mainly clear\\\\nLo: 68° [...] Mon\\\\n\\\\n8/25\\\\n\\\\nPlenty of sunshine\\\\n\\\\nClear\\\\n\\\\nTue\\\\n\\\\n8/26\\\\n\\\\nPlenty of sunshine\\\\n\\\\nMainly clear\\\\n\\\\nWed\\\\n\\\\n8/27\\\\n\\\\nSunny\\\\n\\\\nClear\\\\n\\\\nThu\\\\n\\\\n8/28\\\\n\\\\nPlenty of sun\\\\n\\\\nClear\\\\n\\\\nFri\\\\n\\\\n8/29\\\\n\\\\nPlenty of sun\\\\n\\\\nClear\\\\n\\\\n## Sun & Moon\\\\n\\\\n## Air Quality\\\\n\\\\nThe air has reached a high level of pollution and is unhealthy for sensitive groups. Reduce time spent outside if you are feeling symptoms such as difficulty breathing or throat irritation.\\\\n\\\\n## Allergy Outlook\\\\n\\\\nTop Stories\\\\n\\\\nHurricane [...] ## Current Weather\\\\n\\\\n3:52 PM\\\\n\\\\n## Los Angeles Weather Radar\\\\n\\\\nLos Angeles Weather Radar\\\\n\\\\n## Hourly Weather\\\\n\\\\nrain drop\\\\n\\\\nrain drop\\\\n\\\\nrain drop\\\\n\\\\nrain drop\\\\n\\\\nrain drop\\\\n\\\\nrain drop\\\\n\\\\nrain drop\\\\n\\\\nrain drop\\\\n\\\\nrain drop\\\\n\\\\nrain drop\\\\n\\\\nrain drop\\\\n\\\\nrain drop\\\\n\\\\n## 10-Day Weather Forecast\\\\n\\\\nToday\\\\n\\\\n8/20\\\\n\\\\nWarm with plenty of sunshine\\\\n\\\\nNight: Mainly clear\\\\n\\\\nThu\\\\n\\\\n8/21\\\\n\\\\nMostly sunny and hot\\\\n\\\\nMainly clear\\\\n\\\\nFri\\\\n\\\\n8/22\\\\n\\\\nMostly sunny and hot\\\\n\\\\nClear\\\\n\\\\nSat\\\\n\\\\n8/23\\\\n\\\\nMostly sunny and warm\\\\n\\\\nClear\\\\n\\\\nSun\\\\n\\\\n8/24\\\\n\\\\nPartly sunny and warm\\\\n\\\\nClear\"}, {\\'url\\': \\'https://www.accuweather.com/en/us/los-angeles/90012/august-weather/347625\\', \\'content\\': \\'# Los Angeles, CA\\\\n\\\\nLos Angeles\\\\n\\\\nCalifornia\\\\n\\\\n## Around the Globe\\\\n\\\\nAround the Globe\\\\n\\\\n### Hurricane Tracker\\\\n\\\\n### Severe Weather\\\\n\\\\n### Radar & Maps\\\\n\\\\n### News & Features\\\\n\\\\n### Astronomy\\\\n\\\\n### Business\\\\n\\\\n### Climate\\\\n\\\\n### Health\\\\n\\\\n### Recreation\\\\n\\\\n### Sports\\\\n\\\\n### Travel\\\\n\\\\n### Warnings\\\\n\\\\n### Data Suite\\\\n\\\\n### Forensics\\\\n\\\\n### Advertising\\\\n\\\\n### Superior Accuracy™\\\\n\\\\n### Video\\\\n\\\\n### Winter Center\\\\n\\\\n## Monthly\\\\n\\\\n## August\\\\n\\\\n## 2025\\\\n\\\\n## Daily\\\\n\\\\n## Temperature Graph\\\\n\\\\n## Further Ahead\\\\n\\\\nFurther Ahead\\\\n\\\\n### September 2025 [...] ### October 2025\\\\n\\\\n### November 2025\\\\n\\\\n## Around the Globe\\\\n\\\\nAround the Globe\\\\n\\\\n### Hurricane Tracker\\\\n\\\\n### Severe Weather\\\\n\\\\n### Radar & Maps\\\\n\\\\n### News\\\\n\\\\n### Video\\\\n\\\\n### Winter Center\\\\n\\\\nTop Stories\\\\n\\\\nHurricane\\\\n\\\\nHurricane Erin to unleash dangerous surf, rip currents along East Coas...\\\\n\\\\n4 hours ago\\\\n\\\\nHurricane\\\\n\\\\nWarnings issued as Outer Banks faces flooding, massive waves from Erin\\\\n\\\\n1 hour ago\\\\n\\\\nHealth\\\\n\\\\nNYC Legionnaires’ disease cluster grows to more than 100 cases, includ...\\\\n\\\\n2 days ago\\\\n\\\\nWeather Forecasts\\'}]', name='tavily_search_results_json', tool_call_id='call_LF0RwMrMoeyH9gIrfnj4Bdga')]}\n",
      "{'messages': [AIMessage(content='In Los Angeles, the current weather is warm with plenty of sunshine and a high of 91°F. Tonight, it will be mainly clear with a low of 68°F. The air quality is at a high level of pollution, which may be unhealthy for sensitive groups.', response_metadata={'token_usage': {'completion_tokens': 56, 'prompt_tokens': 1756, 'total_tokens': 1812, 'prompt_tokens_details': {'cached_tokens': 0, 'audio_tokens': 0}, 'completion_tokens_details': {'reasoning_tokens': 0, 'audio_tokens': 0, 'accepted_prediction_tokens': 0, 'rejected_prediction_tokens': 0}}, 'model_name': 'gpt-4o', 'system_fingerprint': 'fp_df0f7b956c', 'finish_reason': 'stop', 'logprobs': None}, id='run-9050e9fc-bd00-4e8c-ae8d-6ea53cd7f989-0')]}\n"
     ]
    }
   ],
   "source": [
    "messages = [HumanMessage(content=\"What about in la?\")]\n",
    "thread = {\"configurable\": {\"thread_id\": \"1\"}}\n",
    "for event in abot.graph.stream({\"messages\": messages}, thread):\n",
    "    for v in event.values():\n",
    "        print(v)"
   ]
  },
  {
   "cell_type": "code",
   "execution_count": 12,
   "id": "dc3293b7-a50c-43c8-a022-8975e1e444b8",
   "metadata": {
    "height": 98
   },
   "outputs": [
    {
     "name": "stdout",
     "output_type": "stream",
     "text": [
      "{'messages': [AIMessage(content=\"Based on the information I found, Los Angeles is currently warm with a high of 91°F. Unfortunately, I couldn't retrieve the current temperature for San Francisco. However, Los Angeles typically experiences warmer weather compared to San Francisco, so it's likely that Los Angeles is warmer at the moment.\", response_metadata={'token_usage': {'completion_tokens': 58, 'prompt_tokens': 1824, 'total_tokens': 1882, 'prompt_tokens_details': {'cached_tokens': 1792, 'audio_tokens': 0}, 'completion_tokens_details': {'reasoning_tokens': 0, 'audio_tokens': 0, 'accepted_prediction_tokens': 0, 'rejected_prediction_tokens': 0}}, 'model_name': 'gpt-4o', 'system_fingerprint': 'fp_df0f7b956c', 'finish_reason': 'stop', 'logprobs': None}, id='run-000c4e1b-c9a9-44df-b0a2-adae437a8e08-0')]}\n"
     ]
    }
   ],
   "source": [
    "messages = [HumanMessage(content=\"Which one is warmer?\")]\n",
    "thread = {\"configurable\": {\"thread_id\": \"1\"}}\n",
    "for event in abot.graph.stream({\"messages\": messages}, thread):\n",
    "    for v in event.values():\n",
    "        print(v)"
   ]
  },
  {
   "cell_type": "code",
   "execution_count": 13,
   "id": "0722c3d4-4cbf-43bf-81b0-50f634c4ce61",
   "metadata": {
    "height": 98
   },
   "outputs": [
    {
     "name": "stdout",
     "output_type": "stream",
     "text": [
      "{'messages': [AIMessage(content=\"Could you please clarify what you're comparing to determine which is warmer? Are you comparing two specific locations, types of clothing, materials, or something else? Let me know so I can provide the appropriate information.\", response_metadata={'token_usage': {'completion_tokens': 43, 'prompt_tokens': 149, 'total_tokens': 192, 'prompt_tokens_details': {'cached_tokens': 0, 'audio_tokens': 0}, 'completion_tokens_details': {'reasoning_tokens': 0, 'audio_tokens': 0, 'accepted_prediction_tokens': 0, 'rejected_prediction_tokens': 0}}, 'model_name': 'gpt-4o', 'system_fingerprint': 'fp_f9f4fb6dbf', 'finish_reason': 'stop', 'logprobs': None}, id='run-00b0b3a5-6d85-4f66-8c83-1f711e54e74f-0')]}\n"
     ]
    }
   ],
   "source": [
    "messages = [HumanMessage(content=\"Which one is warmer?\")]\n",
    "thread = {\"configurable\": {\"thread_id\": \"2\"}}\n",
    "for event in abot.graph.stream({\"messages\": messages}, thread):\n",
    "    for v in event.values():\n",
    "        print(v)"
   ]
  },
  {
   "cell_type": "markdown",
   "id": "ace59a36-3941-459e-b9d1-ac5a4a1ed3ae",
   "metadata": {},
   "source": [
    "## Streaming tokens"
   ]
  },
  {
   "cell_type": "code",
   "execution_count": 14,
   "id": "6b2f82fe-3ec4-4917-be51-9fb10d1317fa",
   "metadata": {
    "height": 81
   },
   "outputs": [],
   "source": [
    "from langgraph.checkpoint.aiosqlite import AsyncSqliteSaver\n",
    "\n",
    "memory = AsyncSqliteSaver.from_conn_string(\":memory:\")\n",
    "abot = Agent(model, [tool], system=prompt, checkpointer=memory)"
   ]
  },
  {
   "cell_type": "code",
   "execution_count": 15,
   "id": "ee0fe1c7-77e2-499c-a2f9-1f739bb6ddf0",
   "metadata": {
    "height": 200
   },
   "outputs": [
    {
     "name": "stderr",
     "output_type": "stream",
     "text": [
      "/usr/local/lib/python3.11/site-packages/langchain_core/_api/beta_decorator.py:87: LangChainBetaWarning: This API is in beta and may change in the future.\n",
      "  warn_beta(\n"
     ]
    },
    {
     "name": "stdout",
     "output_type": "stream",
     "text": [
      "Calling: {'name': 'tavily_search_results_json', 'args': {'query': 'current weather in San Francisco'}, 'id': 'call_GiHnpbt7P6kuX4g2n6imqDXI'}\n",
      "Back to the model!\n",
      "The| current| weather| in| San| Francisco| is| sunny|.| The| temperature| is| expected| to| reach| a| high| of| |76|°F| today|,| with| winds| from| the| west|-s|outh|west| at| |10| to| |20| mph|.| Tonight|,| the| weather| will| be| clear| to| partly| cloudy| with| a| low| of| |56|°F|.|"
     ]
    }
   ],
   "source": [
    "messages = [HumanMessage(content=\"What is the weather in SF?\")]\n",
    "thread = {\"configurable\": {\"thread_id\": \"4\"}}\n",
    "async for event in abot.graph.astream_events({\"messages\": messages}, thread, version=\"v1\"):\n",
    "    kind = event[\"event\"]\n",
    "    if kind == \"on_chat_model_stream\":\n",
    "        content = event[\"data\"][\"chunk\"].content\n",
    "        if content:\n",
    "            # Empty content in the context of OpenAI means\n",
    "            # that the model is asking for a tool to be invoked.\n",
    "            # So we only print non-empty content\n",
    "            print(content, end=\"|\")"
   ]
  },
  {
   "cell_type": "code",
   "execution_count": null,
   "id": "98f303b1-a4d0-408c-8cc0-515ff980717f",
   "metadata": {
    "height": 30
   },
   "outputs": [],
   "source": []
  }
 ],
 "metadata": {
  "kernelspec": {
   "display_name": "Python 3 (ipykernel)",
   "language": "python",
   "name": "python3"
  },
  "language_info": {
   "codemirror_mode": {
    "name": "ipython",
    "version": 3
   },
   "file_extension": ".py",
   "mimetype": "text/x-python",
   "name": "python",
   "nbconvert_exporter": "python",
   "pygments_lexer": "ipython3",
   "version": "3.11.9"
  }
 },
 "nbformat": 4,
 "nbformat_minor": 5
}
