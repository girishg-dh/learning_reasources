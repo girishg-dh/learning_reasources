{
 "cells": [
  {
   "cell_type": "markdown",
   "id": "fc3024e2",
   "metadata": {},
   "source": [
    "# Lesson 3: Reflection and Blogpost Writing"
   ]
  },
  {
   "cell_type": "markdown",
   "id": "3b0cc42f",
   "metadata": {},
   "source": [
    "## Setup"
   ]
  },
  {
   "cell_type": "code",
   "execution_count": 1,
   "id": "96d39be0-eaf3-456d-8613-ba21099ed36b",
   "metadata": {
    "height": 30
   },
   "outputs": [],
   "source": [
    "llm_config = {\"model\": \"gpt-3.5-turbo\"}"
   ]
  },
  {
   "cell_type": "markdown",
   "id": "0969e6bb",
   "metadata": {},
   "source": [
    "## The task!"
   ]
  },
  {
   "cell_type": "code",
   "execution_count": 22,
   "id": "e8074032-3690-4de9-ad08-ea8323cb441b",
   "metadata": {
    "height": 115
   },
   "outputs": [],
   "source": [
    "task = '''\n",
    "        Write a concise but engaging blogpost about\n",
    "       Current geo-political mess created by british colonial policies. Make sure the blogpost is\n",
    "       within 100 words.\n",
    "       '''\n"
   ]
  },
  {
   "cell_type": "markdown",
   "id": "1987f023",
   "metadata": {},
   "source": [
    "## Create a writer agent"
   ]
  },
  {
   "cell_type": "code",
   "execution_count": 23,
   "id": "fe0f0a47-a9fe-43a0-b7b1-79922e4c4ac8",
   "metadata": {
    "height": 183
   },
   "outputs": [],
   "source": [
    "import autogen\n",
    "\n",
    "writer = autogen.AssistantAgent(\n",
    "    name=\"Writer\",\n",
    "    system_message=\"You are a writer. You write engaging and concise \" \n",
    "        \"blogpost (with title) on given topics. You must polish your \"\n",
    "        \"writing based on the feedback you receive and give a refined \"\n",
    "        \"version. Only return your final work without additional comments.\",\n",
    "    llm_config=llm_config,\n",
    ")"
   ]
  },
  {
   "cell_type": "code",
   "execution_count": 24,
   "id": "7c7b4d8d-40f7-4a05-8958-25d20054de3a",
   "metadata": {
    "height": 30
   },
   "outputs": [],
   "source": [
    "reply = writer.generate_reply(messages=[{\"content\": task, \"role\": \"user\"}])"
   ]
  },
  {
   "cell_type": "code",
   "execution_count": 25,
   "id": "c501c97d-e338-4f36-a384-6ec45983cf77",
   "metadata": {
    "height": 30
   },
   "outputs": [
    {
     "name": "stdout",
     "output_type": "stream",
     "text": [
      "Title: Unraveling the Geo-Political Fallout from British Colonial Policies\n",
      "\n",
      "Centuries later, the remnants of British colonial policies continue to cast a long shadow over the global landscape, contributing to the current geo-political mess. Drawing arbitrary borders, sowing seeds of conflict among ethnic and religious groups, and exploiting resources for their gain have left a trail of instability and tension. From the Middle East to Africa, the repercussions are evident. Understanding this historical context is crucial in navigating today's complex challenges. By acknowledging this legacy, we can work towards peaceful resolutions and a more harmonious world. History must serve as a guide for forging a better future.\n"
     ]
    }
   ],
   "source": [
    "print(reply)"
   ]
  },
  {
   "cell_type": "markdown",
   "id": "49658114",
   "metadata": {},
   "source": [
    "## Adding reflection \n",
    "\n",
    "Create a critic agent to reflect on the work of the writer agent."
   ]
  },
  {
   "cell_type": "code",
   "execution_count": 26,
   "id": "c7fcd1c7-51ec-4915-8e97-bac03565c4c7",
   "metadata": {
    "height": 149
   },
   "outputs": [],
   "source": [
    "critic = autogen.AssistantAgent(\n",
    "    name=\"Critic\",\n",
    "    is_termination_msg=lambda x: x.get(\"content\", \"\").find(\"TERMINATE\") >= 0,\n",
    "    llm_config=llm_config,\n",
    "    system_message=\"You are a critic. You review the work of \"\n",
    "                \"the writer and provide constructive \"\n",
    "                \"feedback to help improve the quality of the content.\",\n",
    ")"
   ]
  },
  {
   "cell_type": "code",
   "execution_count": 27,
   "id": "899d5fdb-6081-470b-b287-8cf8b8142d0d",
   "metadata": {
    "height": 115
   },
   "outputs": [
    {
     "name": "stdout",
     "output_type": "stream",
     "text": [
      "\u001b[33mCritic\u001b[0m (to Writer):\n",
      "\n",
      "\n",
      "        Write a concise but engaging blogpost about\n",
      "       Current geo-political mess created by british colonial policies. Make sure the blogpost is\n",
      "       within 100 words.\n",
      "       \n",
      "\n",
      "--------------------------------------------------------------------------------\n",
      "\u001b[33mWriter\u001b[0m (to Critic):\n",
      "\n",
      "Title: Unraveling the Geo-Political Fallout from British Colonial Policies\n",
      "\n",
      "Centuries later, the remnants of British colonial policies continue to cast a long shadow over the global landscape, contributing to the current geo-political mess. Drawing arbitrary borders, sowing seeds of conflict among ethnic and religious groups, and exploiting resources for their gain have left a trail of instability and tension. From the Middle East to Africa, the repercussions are evident. Understanding this historical context is crucial in navigating today's complex challenges. By acknowledging this legacy, we can work towards peaceful resolutions and a more harmonious world. History must serve as a guide for forging a better future.\n",
      "\n",
      "--------------------------------------------------------------------------------\n",
      "\u001b[33mCritic\u001b[0m (to Writer):\n",
      "\n",
      "This blogpost effectively highlights the enduring impact of British colonial policies on today's geo-political landscape. The language is evocative and engaging, drawing readers into the complexities of the issue. However, to enhance the content, consider expanding on specific examples or case studies to provide more depth and nuance to the argument. Additionally, a call to action or suggestions for addressing these challenges could further inspire readers to reflect on the importance of historical context in shaping a better future. Overall, the blogpost is insightful and compelling, with room for further elaboration and encouragement for reader engagement.\n",
      "\n",
      "--------------------------------------------------------------------------------\n",
      "\u001b[33mWriter\u001b[0m (to Critic):\n",
      "\n",
      "Title: Navigating Today's Geo-Political Maze: Unraveling the Legacy of British Colonial Policies\n",
      "\n",
      "Centuries-old British colonial policies continue to reverberate through today's chaotic geo-political landscape. The arbitrary borders drawn by colonizers, the fueling of ethnic and religious tensions, and the exploitation of resources have all left a trail of instability. From the Palestinian-Israeli conflict to the tribal divisions in Africa, the impact is evident. To move forward, we must delve into these historical complexities. By reflecting on specific examples and suggesting solutions, we can learn from the past to shape a more peaceful future. Understanding history is the key to untangling the web of today's challenges and building a more equitable world.\n",
      "\n",
      "--------------------------------------------------------------------------------\n"
     ]
    }
   ],
   "source": [
    "res = critic.initiate_chat(\n",
    "    recipient=writer,\n",
    "    message=task,\n",
    "    max_turns=2,\n",
    "    summary_method=\"last_msg\"\n",
    ")"
   ]
  },
  {
   "cell_type": "markdown",
   "id": "e7b76449",
   "metadata": {},
   "source": [
    "## Nested chat"
   ]
  },
  {
   "cell_type": "code",
   "execution_count": 28,
   "id": "401ecf92-63e9-40ff-aeed-1c404352e4ab",
   "metadata": {
    "height": 200
   },
   "outputs": [],
   "source": [
    "SEO_reviewer = autogen.AssistantAgent(\n",
    "    name=\"SEO Reviewer\",\n",
    "    llm_config=llm_config,\n",
    "    system_message=\"You are an SEO reviewer, known for \"\n",
    "        \"your ability to optimize content for search engines, \"\n",
    "        \"ensuring that it ranks well and attracts organic traffic. \" \n",
    "        \"Make sure your suggestion is concise (within 3 bullet points), \"\n",
    "        \"concrete and to the point. \"\n",
    "        \"Begin the review by stating your role.\",\n",
    ")\n"
   ]
  },
  {
   "cell_type": "code",
   "execution_count": 29,
   "id": "f85acb81-7ab9-4c84-b8bb-6fbae3dce848",
   "metadata": {
    "height": 183
   },
   "outputs": [],
   "source": [
    "legal_reviewer = autogen.AssistantAgent(\n",
    "    name=\"Legal Reviewer\",\n",
    "    llm_config=llm_config,\n",
    "    system_message=\"You are a legal reviewer, known for \"\n",
    "        \"your ability to ensure that content is legally compliant \"\n",
    "        \"and free from any potential legal issues. \"\n",
    "        \"Make sure your suggestion is concise (within 3 bullet points), \"\n",
    "        \"concrete and to the point. \"\n",
    "        \"Begin the review by stating your role.\",\n",
    ")"
   ]
  },
  {
   "cell_type": "code",
   "execution_count": 30,
   "id": "d46a177a-8088-4956-8d2b-3e916b8ca5e9",
   "metadata": {
    "height": 183
   },
   "outputs": [],
   "source": [
    "ethics_reviewer = autogen.AssistantAgent(\n",
    "    name=\"Ethics Reviewer\",\n",
    "    llm_config=llm_config,\n",
    "    system_message=\"You are an ethics reviewer, known for \"\n",
    "        \"your ability to ensure that content is ethically sound \"\n",
    "        \"and free from any potential ethical issues. \" \n",
    "        \"Make sure your suggestion is concise (within 3 bullet points), \"\n",
    "        \"concrete and to the point. \"\n",
    "        \"Begin the review by stating your role. \",\n",
    ")"
   ]
  },
  {
   "cell_type": "code",
   "execution_count": 31,
   "id": "a7b2ad6f-8ba6-436a-9459-14ffbe8a32d3",
   "metadata": {
    "height": 115
   },
   "outputs": [],
   "source": [
    "meta_reviewer = autogen.AssistantAgent(\n",
    "    name=\"Meta Reviewer\",\n",
    "    llm_config=llm_config,\n",
    "    system_message=\"You are a meta reviewer, you aggragate and review \"\n",
    "    \"the work of other reviewers and give a final suggestion on the content.\",\n",
    ")"
   ]
  },
  {
   "cell_type": "markdown",
   "id": "913beca1",
   "metadata": {},
   "source": [
    "## Orchestrate the nested chats to solve the task"
   ]
  },
  {
   "cell_type": "code",
   "execution_count": 32,
   "id": "a11a70c7-19ca-4e5a-ad3d-f2b481fb5915",
   "metadata": {
    "height": 540
   },
   "outputs": [],
   "source": [
    "def reflection_message(recipient, messages, sender, config):\n",
    "    return f'''Review the following content. \n",
    "            \\n\\n {recipient.chat_messages_for_summary(sender)[-1]['content']}'''\n",
    "\n",
    "review_chats = [\n",
    "    {\n",
    "     \"recipient\": SEO_reviewer, \n",
    "     \"message\": reflection_message, \n",
    "     \"summary_method\": \"reflection_with_llm\",\n",
    "     \"summary_args\": {\"summary_prompt\" : \n",
    "        \"Return review into as JSON object only:\"\n",
    "        \"{'Reviewer': '', 'Review': ''}. Here Reviewer should be your role\",},\n",
    "     \"max_turns\": 1},\n",
    "    {\n",
    "    \"recipient\": legal_reviewer, \"message\": reflection_message, \n",
    "     \"summary_method\": \"reflection_with_llm\",\n",
    "     \"summary_args\": {\"summary_prompt\" : \n",
    "        \"Return review into as JSON object only:\"\n",
    "        \"{'Reviewer': '', 'Review': ''}.\",},\n",
    "     \"max_turns\": 1},\n",
    "    {\"recipient\": ethics_reviewer, \"message\": reflection_message, \n",
    "     \"summary_method\": \"reflection_with_llm\",\n",
    "     \"summary_args\": {\"summary_prompt\" : \n",
    "        \"Return review into as JSON object only:\"\n",
    "        \"{'reviewer': '', 'review': ''}\",},\n",
    "     \"max_turns\": 1},\n",
    "     {\"recipient\": meta_reviewer, \n",
    "      \"message\": \"Aggregrate feedback from all reviewers and give final suggestions on the writing.\", \n",
    "     \"max_turns\": 1},\n",
    "]\n"
   ]
  },
  {
   "cell_type": "code",
   "execution_count": 33,
   "id": "b3a40b66-5061-460d-ad9d-c0dbcfbba2e9",
   "metadata": {
    "height": 81
   },
   "outputs": [],
   "source": [
    "critic.register_nested_chats(\n",
    "    review_chats,\n",
    "    trigger=writer,\n",
    ")"
   ]
  },
  {
   "cell_type": "markdown",
   "id": "43b8797d",
   "metadata": {},
   "source": [
    "**Note**: You might get a slightly different response than what's shown in the video. Feel free to try different task."
   ]
  },
  {
   "cell_type": "code",
   "execution_count": 34,
   "id": "3b8dcac3-1e72-43b7-9d5a-1be740f6efd5",
   "metadata": {
    "height": 115
   },
   "outputs": [
    {
     "name": "stdout",
     "output_type": "stream",
     "text": [
      "\u001b[33mCritic\u001b[0m (to Writer):\n",
      "\n",
      "\n",
      "        Write a concise but engaging blogpost about\n",
      "       Current geo-political mess created by british colonial policies. Make sure the blogpost is\n",
      "       within 100 words.\n",
      "       \n",
      "\n",
      "--------------------------------------------------------------------------------\n",
      "\u001b[33mWriter\u001b[0m (to Critic):\n",
      "\n",
      "Title: Unraveling the Geo-Political Fallout from British Colonial Policies\n",
      "\n",
      "Centuries later, the remnants of British colonial policies continue to cast a long shadow over the global landscape, contributing to the current geo-political mess. Drawing arbitrary borders, sowing seeds of conflict among ethnic and religious groups, and exploiting resources for their gain have left a trail of instability and tension. From the Middle East to Africa, the repercussions are evident. Understanding this historical context is crucial in navigating today's complex challenges. By acknowledging this legacy, we can work towards peaceful resolutions and a more harmonious world. History must serve as a guide for forging a better future.\n",
      "\n",
      "--------------------------------------------------------------------------------\n",
      "\u001b[34m\n",
      "********************************************************************************\u001b[0m\n",
      "\u001b[34mStarting a new chat....\u001b[0m\n",
      "\u001b[34m\n",
      "********************************************************************************\u001b[0m\n",
      "\u001b[33mCritic\u001b[0m (to SEO Reviewer):\n",
      "\n",
      "Review the following content. \n",
      "            \n",
      "\n",
      " Title: Unraveling the Geo-Political Fallout from British Colonial Policies\n",
      "\n",
      "Centuries later, the remnants of British colonial policies continue to cast a long shadow over the global landscape, contributing to the current geo-political mess. Drawing arbitrary borders, sowing seeds of conflict among ethnic and religious groups, and exploiting resources for their gain have left a trail of instability and tension. From the Middle East to Africa, the repercussions are evident. Understanding this historical context is crucial in navigating today's complex challenges. By acknowledging this legacy, we can work towards peaceful resolutions and a more harmonious world. History must serve as a guide for forging a better future.\n",
      "\n",
      "--------------------------------------------------------------------------------\n",
      "\u001b[33mSEO Reviewer\u001b[0m (to Critic):\n",
      "\n",
      "**SEO Review:**\n",
      "\n",
      "- Consider including relevant keywords such as \"British colonial legacy,\" \"global geopolitics,\" and \"historical context\" to improve search engine visibility.\n",
      "  \n",
      "- Enhance meta title and description with targeted keywords to attract more organic traffic.\n",
      "  \n",
      "- Add relevant subheadings and bullet points to break down the content for easier readability and keyword optimization.\n",
      "\n",
      "--------------------------------------------------------------------------------\n",
      "\u001b[34m\n",
      "********************************************************************************\u001b[0m\n",
      "\u001b[34mStarting a new chat....\u001b[0m\n",
      "\u001b[34m\n",
      "********************************************************************************\u001b[0m\n",
      "\u001b[33mCritic\u001b[0m (to Legal Reviewer):\n",
      "\n",
      "Review the following content. \n",
      "            \n",
      "\n",
      " Title: Unraveling the Geo-Political Fallout from British Colonial Policies\n",
      "\n",
      "Centuries later, the remnants of British colonial policies continue to cast a long shadow over the global landscape, contributing to the current geo-political mess. Drawing arbitrary borders, sowing seeds of conflict among ethnic and religious groups, and exploiting resources for their gain have left a trail of instability and tension. From the Middle East to Africa, the repercussions are evident. Understanding this historical context is crucial in navigating today's complex challenges. By acknowledging this legacy, we can work towards peaceful resolutions and a more harmonious world. History must serve as a guide for forging a better future.\n",
      "Context: \n",
      "{'Reviewer': 'Content Editor', 'Review': 'Consider including relevant keywords such as \"British colonial legacy,\" \"global geopolitics,\" and \"historical context\" to improve search engine visibility. Enhance meta title and description with targeted keywords to attract more organic traffic. Add relevant subheadings and bullet points to break down the content for easier readability and keyword optimization.'}\n",
      "\n",
      "--------------------------------------------------------------------------------\n",
      "\u001b[33mLegal Reviewer\u001b[0m (to Critic):\n",
      "\n",
      "Legal Reviewer\n",
      "\n",
      "- The content is discussing the impact of British colonial policies on global geopolitics, border issues, and resource exploitation. Ensure that there are no defamatory statements or unsubstantiated claims that could potentially lead to legal liabilities.\n",
      "- It is important to clearly attribute any historical facts or events mentioned to reliable sources to avoid any accusations of plagiarism or misinformation.\n",
      "- As the content touches on sensitive geopolitical topics, verify that the language used is objective and does not incite hatred, discrimination, or defamation towards any specific ethnicities, religions, or nations.\n",
      "\n",
      "--------------------------------------------------------------------------------\n",
      "\u001b[34m\n",
      "********************************************************************************\u001b[0m\n",
      "\u001b[34mStarting a new chat....\u001b[0m\n",
      "\u001b[34m\n",
      "********************************************************************************\u001b[0m\n",
      "\u001b[33mCritic\u001b[0m (to Ethics Reviewer):\n",
      "\n",
      "Review the following content. \n",
      "            \n",
      "\n",
      " Title: Unraveling the Geo-Political Fallout from British Colonial Policies\n",
      "\n",
      "Centuries later, the remnants of British colonial policies continue to cast a long shadow over the global landscape, contributing to the current geo-political mess. Drawing arbitrary borders, sowing seeds of conflict among ethnic and religious groups, and exploiting resources for their gain have left a trail of instability and tension. From the Middle East to Africa, the repercussions are evident. Understanding this historical context is crucial in navigating today's complex challenges. By acknowledging this legacy, we can work towards peaceful resolutions and a more harmonious world. History must serve as a guide for forging a better future.\n",
      "Context: \n",
      "{'Reviewer': 'Content Editor', 'Review': 'Consider including relevant keywords such as \"British colonial legacy,\" \"global geopolitics,\" and \"historical context\" to improve search engine visibility. Enhance meta title and description with targeted keywords to attract more organic traffic. Add relevant subheadings and bullet points to break down the content for easier readability and keyword optimization.'}\n",
      "{'Reviewer': 'Content Editor', 'Review': 'Consider including relevant keywords such as \"British colonial legacy,\" \"global geopolitics,\" and \"historical context\" to improve search engine visibility. Enhance meta title and description with targeted keywords to attract more organic traffic. Add relevant subheadings and bullet points to break down the content for easier readability and keyword optimization.'}\n",
      "\n",
      "--------------------------------------------------------------------------------\n",
      "\u001b[33mEthics Reviewer\u001b[0m (to Critic):\n",
      "\n",
      "As an Ethics Reviewer:\n",
      "\n",
      "- Ensure that the content accurately portrays the impact of British colonial policies on geo-politics without glorifying or demonizing any specific groups or nations.\n",
      "- Avoid language that could be interpreted as promoting a specific political agenda or viewpoint regarding current geopolitical issues stemming from colonial history.\n",
      "- Acknowledge the complexity of historical legacies and emphasize the importance of peaceful resolutions and understanding for creating a more harmonious world without oversimplifying or downplaying the ongoing challenges in affected regions.\n",
      "\n",
      "--------------------------------------------------------------------------------\n",
      "\u001b[34m\n",
      "********************************************************************************\u001b[0m\n",
      "\u001b[34mStarting a new chat....\u001b[0m\n",
      "\u001b[34m\n",
      "********************************************************************************\u001b[0m\n",
      "\u001b[33mCritic\u001b[0m (to Meta Reviewer):\n",
      "\n",
      "Aggregrate feedback from all reviewers and give final suggestions on the writing.\n",
      "Context: \n",
      "{'Reviewer': 'Content Editor', 'Review': 'Consider including relevant keywords such as \"British colonial legacy,\" \"global geopolitics,\" and \"historical context\" to improve search engine visibility. Enhance meta title and description with targeted keywords to attract more organic traffic. Add relevant subheadings and bullet points to break down the content for easier readability and keyword optimization.'}\n",
      "{'Reviewer': 'Content Editor', 'Review': 'Consider including relevant keywords such as \"British colonial legacy,\" \"global geopolitics,\" and \"historical context\" to improve search engine visibility. Enhance meta title and description with targeted keywords to attract more organic traffic. Add relevant subheadings and bullet points to break down the content for easier readability and keyword optimization.'}\n",
      "{'reviewer': 'Ethics Reviewer', 'review': '- Ensure that the content accurately portrays the impact of British colonial policies on geo-politics without glorifying or demonizing any specific groups or nations.\\n- Avoid language that could be interpreted as promoting a specific political agenda or viewpoint regarding current geopolitical issues stemming from colonial history.\\n- Acknowledge the complexity of historical legacies and emphasize the importance of peaceful resolutions and understanding for creating a more harmonious world without oversimplifying or downplaying the ongoing challenges in affected regions.'}\n"
     ]
    },
    {
     "name": "stdout",
     "output_type": "stream",
     "text": [
      "\n",
      "--------------------------------------------------------------------------------\n",
      "\u001b[33mMeta Reviewer\u001b[0m (to Critic):\n",
      "\n",
      "Aggregated feedback from reviewers:\n",
      "- Include relevant keywords such as \"British colonial legacy,\" \"global geopolitics,\" and \"historical context\" to improve search engine visibility.\n",
      "- Enhance meta title and description with targeted keywords.\n",
      "- Add subheadings and bullet points for easier readability and keyword optimization.\n",
      "- Ensure the content accurately portrays the impact of British colonial policies on geo-politics without glorifying or demonizing any specific groups or nations.\n",
      "- Avoid language that could be interpreted as promoting a specific political agenda or viewpoint regarding current geopolitical issues stemming from colonial history.\n",
      "- Acknowledge the complexity of historical legacies and emphasize peaceful resolutions and understanding without oversimplifying or downplaying ongoing challenges in affected regions.\n",
      "\n",
      "Final suggestion:\n",
      "The writing should focus on integrating the suggested keywords for better visibility, optimizing meta tags, using subheadings and bullet points for readability, and maintaining a balanced and nuanced perspective on the impact of British colonial policies. Avoiding bias and promoting peaceful resolutions will enhance the overall quality and credibility of the content.\n",
      "\n",
      "--------------------------------------------------------------------------------\n",
      "\u001b[33mCritic\u001b[0m (to Writer):\n",
      "\n",
      "Aggregated feedback from reviewers:\n",
      "- Include relevant keywords such as \"British colonial legacy,\" \"global geopolitics,\" and \"historical context\" to improve search engine visibility.\n",
      "- Enhance meta title and description with targeted keywords.\n",
      "- Add subheadings and bullet points for easier readability and keyword optimization.\n",
      "- Ensure the content accurately portrays the impact of British colonial policies on geo-politics without glorifying or demonizing any specific groups or nations.\n",
      "- Avoid language that could be interpreted as promoting a specific political agenda or viewpoint regarding current geopolitical issues stemming from colonial history.\n",
      "- Acknowledge the complexity of historical legacies and emphasize peaceful resolutions and understanding without oversimplifying or downplaying ongoing challenges in affected regions.\n",
      "\n",
      "Final suggestion:\n",
      "The writing should focus on integrating the suggested keywords for better visibility, optimizing meta tags, using subheadings and bullet points for readability, and maintaining a balanced and nuanced perspective on the impact of British colonial policies. Avoiding bias and promoting peaceful resolutions will enhance the overall quality and credibility of the content.\n",
      "\n",
      "--------------------------------------------------------------------------------\n",
      "\u001b[33mWriter\u001b[0m (to Critic):\n",
      "\n",
      "Title: Navigating the Impact of British Colonial Legacy on Global Geopolitics\n",
      "\n",
      "Meta Title: Understanding British Colonial Legacy: Impact on Global Geopolitics\n",
      "Meta Description: Explore the historical context of British colonial policies and their enduring impact on today's global geopolitics. Learn about the complexities and strive towards peaceful resolutions.\n",
      "\n",
      "Subheading: Unraveling Historical Context\n",
      "- British Colonial Legacy: Arbitrary Borders and Ethnic Divisions\n",
      "- Resource Exploitation and Economic Imbalances\n",
      "\n",
      "Subheading: Impact on Global Geopolitics\n",
      "- Middle East: Sectarian Tensions and Political Instability\n",
      "- Africa: Struggles with Post-Colonial Governance\n",
      "\n",
      "In today's global geopolitics, the shadows of British colonial policies loom large, shaping narratives and fueling tensions. By acknowledging this complex historical legacy with nuance and balance, we can strive for peaceful resolutions and a better understanding of the challenges faced in affected regions. Let history guide us towards a more harmonious world without oversimplifying the intricacies of post-colonial dynamics.\n",
      "\n",
      "--------------------------------------------------------------------------------\n"
     ]
    }
   ],
   "source": [
    "res = critic.initiate_chat(\n",
    "    recipient=writer,\n",
    "    message=task,\n",
    "    max_turns=2,\n",
    "    summary_method=\"last_msg\"\n",
    ")"
   ]
  },
  {
   "cell_type": "markdown",
   "id": "c5c833b0",
   "metadata": {},
   "source": [
    "## Get the summary"
   ]
  },
  {
   "cell_type": "code",
   "execution_count": 35,
   "id": "68ef82ed-f102-4964-b7be-60e2f258a39b",
   "metadata": {
    "height": 30
   },
   "outputs": [
    {
     "name": "stdout",
     "output_type": "stream",
     "text": [
      "Title: Navigating the Impact of British Colonial Legacy on Global Geopolitics\n",
      "\n",
      "Meta Title: Understanding British Colonial Legacy: Impact on Global Geopolitics\n",
      "Meta Description: Explore the historical context of British colonial policies and their enduring impact on today's global geopolitics. Learn about the complexities and strive towards peaceful resolutions.\n",
      "\n",
      "Subheading: Unraveling Historical Context\n",
      "- British Colonial Legacy: Arbitrary Borders and Ethnic Divisions\n",
      "- Resource Exploitation and Economic Imbalances\n",
      "\n",
      "Subheading: Impact on Global Geopolitics\n",
      "- Middle East: Sectarian Tensions and Political Instability\n",
      "- Africa: Struggles with Post-Colonial Governance\n",
      "\n",
      "In today's global geopolitics, the shadows of British colonial policies loom large, shaping narratives and fueling tensions. By acknowledging this complex historical legacy with nuance and balance, we can strive for peaceful resolutions and a better understanding of the challenges faced in affected regions. Let history guide us towards a more harmonious world without oversimplifying the intricacies of post-colonial dynamics.\n"
     ]
    }
   ],
   "source": [
    "print(res.summary)"
   ]
  },
  {
   "cell_type": "code",
   "execution_count": null,
   "id": "2a41e442",
   "metadata": {
    "height": 30
   },
   "outputs": [],
   "source": []
  }
 ],
 "metadata": {
  "kernelspec": {
   "display_name": "Python 3 (ipykernel)",
   "language": "python",
   "name": "python3"
  },
  "language_info": {
   "codemirror_mode": {
    "name": "ipython",
    "version": 3
   },
   "file_extension": ".py",
   "mimetype": "text/x-python",
   "name": "python",
   "nbconvert_exporter": "python",
   "pygments_lexer": "ipython3",
   "version": "3.11.9"
  }
 },
 "nbformat": 4,
 "nbformat_minor": 5
}
